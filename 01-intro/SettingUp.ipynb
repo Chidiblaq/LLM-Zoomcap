{
 "cells": [
  {
   "cell_type": "code",
   "execution_count": 1,
   "id": "aa420a6e-7a0b-4d0c-afcc-866e1e253c19",
   "metadata": {},
   "outputs": [],
   "source": [
    "import openai"
   ]
  },
  {
   "cell_type": "code",
   "execution_count": 2,
   "id": "15d6b30e-76fa-4fbf-bfad-c483bfe7651d",
   "metadata": {},
   "outputs": [],
   "source": [
    "from openai import OpenAI"
   ]
  },
  {
   "cell_type": "code",
   "execution_count": 3,
   "id": "c7c816b0-bbb6-46fa-b0bc-36fc12d38ce9",
   "metadata": {},
   "outputs": [],
   "source": [
    "client = OpenAI()"
   ]
  },
  {
   "cell_type": "code",
   "execution_count": 4,
   "id": "19bdec3c-3a5e-4821-beca-d1bc9f7538cf",
   "metadata": {},
   "outputs": [],
   "source": [
    "import os"
   ]
  },
  {
   "cell_type": "code",
   "execution_count": 9,
   "id": "f64cdfc9-9d53-4f8c-9a0c-06c13b9776d7",
   "metadata": {},
   "outputs": [],
   "source": [
    "response = client.chat.completions.create(\n",
    "    model= 'gpt-4o-mini-2024-07-18',\n",
    "    messages=[{\"role\": \"user\", \"content\": \"is it too late to join the course?\"}]\n",
    ")  "
   ]
  },
  {
   "cell_type": "code",
   "execution_count": 12,
   "id": "cba8eb54-da66-4e8b-88a3-cfa64b857305",
   "metadata": {},
   "outputs": [
    {
     "data": {
      "text/plain": [
       "\"Whether it's too late to join a course depends on the specific course's enrollment policies, deadlines, and start dates. I recommend checking the course's official website or contacting the course provider for the most accurate information regarding late enrollment options. They may have specific procedures for late joiners or possibility of future sessions.\""
      ]
     },
     "execution_count": 12,
     "metadata": {},
     "output_type": "execute_result"
    }
   ],
   "source": [
    "response.choices[0].message.content"
   ]
  },
  {
   "cell_type": "code",
   "execution_count": null,
   "id": "6b1e7cb1-cdd4-4b16-9c15-c57dac8b4a6f",
   "metadata": {},
   "outputs": [],
   "source": []
  }
 ],
 "metadata": {
  "kernelspec": {
   "display_name": "Python 3 (ipykernel)",
   "language": "python",
   "name": "python3"
  },
  "language_info": {
   "codemirror_mode": {
    "name": "ipython",
    "version": 3
   },
   "file_extension": ".py",
   "mimetype": "text/x-python",
   "name": "python",
   "nbconvert_exporter": "python",
   "pygments_lexer": "ipython3",
   "version": "3.12.1"
  }
 },
 "nbformat": 4,
 "nbformat_minor": 5
}
